{
 "cells": [
  {
   "cell_type": "markdown",
   "id": "983682cc-6e0f-48db-ade9-c9709bca8264",
   "metadata": {},
   "source": [
    "## Hands-On 14\n",
    "\n",
    "##### Implement the following algorithms:\n",
    "1. Topological sort"
   ]
  },
  {
   "cell_type": "code",
   "execution_count": 25,
   "id": "32dba17b-6629-46d2-a03b-c29eba48e38c",
   "metadata": {},
   "outputs": [
    {
     "name": "stdout",
     "output_type": "stream",
     "text": [
      "Topological Sort: ['F', 'E', 'B', 'A', 'D', 'C']\n"
     ]
    }
   ],
   "source": [
    "from collections import defaultdict\n",
    "\n",
    "def topological_sort(vertices, edges):\n",
    "    graph = defaultdict(list)\n",
    "    for u, v in edges:\n",
    "        graph[u].append(v)\n",
    "\n",
    "    visited = set()\n",
    "    stack = []\n",
    "\n",
    "    def dfs(node):\n",
    "        visited.add(node)\n",
    "        for neighbor in graph[node]:\n",
    "            if neighbor not in visited:\n",
    "                dfs(neighbor)\n",
    "        stack.append(node)\n",
    "\n",
    "    for v in vertices:\n",
    "        if v not in visited:\n",
    "            dfs(v)\n",
    "\n",
    "    return stack[::-1]\n",
    "\n",
    "# Example test\n",
    "\n",
    "\n",
    "vertices = ['A', 'B', 'C', 'D', 'E', 'F']\n",
    "edges = [('A', 'D'), ('F', 'B'), ('B', 'D'), ('F', 'A'), ('D', 'C')]\n",
    "print(\"Topological Sort:\", topological_sort(vertices, edges))\n",
    "        "
   ]
  },
  {
   "cell_type": "markdown",
   "id": "9ea7d695-6b83-449c-9c56-ff195dd7c217",
   "metadata": {},
   "source": [
    "---"
   ]
  },
  {
   "cell_type": "markdown",
   "id": "6c24084b-ade5-49fe-9635-6b133c500acd",
   "metadata": {},
   "source": [
    "---"
   ]
  },
  {
   "cell_type": "markdown",
   "id": "639f49e3-9543-477e-85b8-f4af6062baeb",
   "metadata": {},
   "source": [
    "2. Depth-First Search"
   ]
  },
  {
   "cell_type": "markdown",
   "id": "e8ce7e5a-dd39-4bdd-8931-343f242a018d",
   "metadata": {},
   "source": [
    "def dfs(graph, start, visited=None):\n",
    "    if visited is None:\n",
    "        visited = set()\n",
    "    visited.add(start)\n",
    "    print(start, end=' ')\n",
    "    for neighbor in graph[start]:\n",
    "        if neighbor not in visited:\n",
    "            dfs(graph, neighbor, visited)\n",
    "\n",
    "# Example graph\n",
    "\n",
    "graph = {\n",
    "    'A': ['C'],\n",
    "    'B': ['C', 'D'],\n",
    "    'C': ['E'],\n",
    "    'D': ['F'],\n",
    "    'E': ['H', 'F'],\n",
    "    'F': ['G'],\n",
    "    'G': [],\n",
    "    'H': []\n",
    "}\n",
    "print(\"DFS traversal starting from A:\")\n",
    "dfs(graph, 'A')\n"
   ]
  },
  {
   "cell_type": "markdown",
   "id": "59db2abb-06f8-490b-a2db-7f630a067033",
   "metadata": {},
   "source": [
    "---"
   ]
  },
  {
   "cell_type": "markdown",
   "id": "af04a214-9e4d-4c03-a4d1-3f41bb21c5f3",
   "metadata": {},
   "source": [
    "---"
   ]
  },
  {
   "cell_type": "markdown",
   "id": "18c1125e-71d6-4b5f-946d-10c011722d45",
   "metadata": {},
   "source": [
    "3. Kruskal algorithm"
   ]
  },
  {
   "cell_type": "code",
   "execution_count": 13,
   "id": "ae8e87cc-1514-4093-9c51-a49ac6251920",
   "metadata": {},
   "outputs": [
    {
     "name": "stdout",
     "output_type": "stream",
     "text": [
      "Kruskal's MST: [('A', 'B', 1), ('C', 'D', 2), ('B', 'D', 3), ('C', 'E', 6)]\n"
     ]
    }
   ],
   "source": [
    "class DisjointSet:\n",
    "    def __init__(self, vertices):\n",
    "        self.parent = {v: v for v in vertices}\n",
    "\n",
    "    def find(self, item):\n",
    "        if self.parent[item] != item:\n",
    "            self.parent[item] = self.find(self.parent[item])\n",
    "        return self.parent[item]\n",
    "\n",
    "    def union(self, set1, set2):\n",
    "        root1 = self.find(set1)\n",
    "        root2 = self.find(set2)\n",
    "        if root1 != root2:\n",
    "            self.parent[root2] = root1\n",
    "\n",
    "def kruskal(vertices, edges):\n",
    "    edges.sort(key=lambda x: x[2])  # sort by weight\n",
    "    ds = DisjointSet(vertices)\n",
    "    mst = []\n",
    "\n",
    "    for u, v, weight in edges:\n",
    "        if ds.find(u) != ds.find(v):\n",
    "            ds.union(u, v)\n",
    "            mst.append((u, v, weight))\n",
    "\n",
    "    return mst\n",
    "\n",
    "# Example test\n",
    "vertices = ['A', 'B', 'C', 'D', 'E']\n",
    "edges = [\n",
    "    ('A', 'B', 1),\n",
    "    ('A', 'C', 5),\n",
    "    ('B', 'C', 4),\n",
    "    ('B', 'D', 3),\n",
    "    ('C', 'D', 2),\n",
    "    ('C', 'E', 6),\n",
    "    ('D', 'E', 7)\n",
    "]\n",
    "print(\"Kruskal's MST:\", kruskal(vertices, edges))\n"
   ]
  },
  {
   "cell_type": "markdown",
   "id": "39e53889-1ede-4d2c-8640-6f1186b6e727",
   "metadata": {},
   "source": [
    "---"
   ]
  },
  {
   "cell_type": "markdown",
   "id": "9bb79fca-9c6c-4a88-9026-792c7aaf4ba8",
   "metadata": {},
   "source": [
    "---"
   ]
  }
 ],
 "metadata": {
  "kernelspec": {
   "display_name": "Python [conda env:base] *",
   "language": "python",
   "name": "conda-base-py"
  },
  "language_info": {
   "codemirror_mode": {
    "name": "ipython",
    "version": 3
   },
   "file_extension": ".py",
   "mimetype": "text/x-python",
   "name": "python",
   "nbconvert_exporter": "python",
   "pygments_lexer": "ipython3",
   "version": "3.12.7"
  }
 },
 "nbformat": 4,
 "nbformat_minor": 5
}
